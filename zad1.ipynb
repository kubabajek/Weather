{
 "cells": [
  {
   "cell_type": "code",
   "execution_count": 1,
   "id": "a968bf73",
   "metadata": {},
   "outputs": [],
   "source": [
    "import requests, json\n",
    "api_key = \"1cc9ea60b7d041e29b6220436231005\"\n",
    "city = \"Cracow\"\n",
    "days = 7\n",
    "\n",
    "url_base = \"http://api.weatherapi.com/v1/forecast.json\"\n",
    "url = f\"{url_base}?key={api_key}&q={city}&days={days}&aqi=no&alerts=no\"\n",
    "\n",
    "response = requests.get(url)"
   ]
  },
  {
   "cell_type": "code",
   "execution_count": 21,
   "id": "8186f323",
   "metadata": {
    "scrolled": true
   },
   "outputs": [
    {
     "name": "stdout",
     "output_type": "stream",
     "text": [
      "Data: 2023-05-11, TempMin: 4.3°C\n",
      "Data: 2023-05-12, TempMin: 4.9°C\n",
      "Data: 2023-05-13, TempMin: 7.1°C\n",
      "Data: 2023-05-14, TempMin: 5.3°C\n",
      "Data: 2023-05-17, TempMin: 9.0°C\n"
     ]
    }
   ],
   "source": [
    "data = response.json()\n",
    "data = data['forecast']['forecastday']\n",
    "\n",
    "temp = 10\n",
    "check_temp = lambda day_data : day_data[\"day\"][\"mintemp_c\"]<temp\n",
    "print_day = lambda day_data : print(f'Data: {day_data[\"date\"]}, TempMin: {day_data[\"day\"][\"mintemp_c\"]}\\u00b0C')\n",
    "\n",
    "data_filtered = list(filter(check_temp,data))\n",
    "list(map(print_day, data_filtered));"
   ]
  }
 ],
 "metadata": {
  "kernelspec": {
   "display_name": "Python 3 (ipykernel)",
   "language": "python",
   "name": "python3"
  },
  "language_info": {
   "codemirror_mode": {
    "name": "ipython",
    "version": 3
   },
   "file_extension": ".py",
   "mimetype": "text/x-python",
   "name": "python",
   "nbconvert_exporter": "python",
   "pygments_lexer": "ipython3",
   "version": "3.10.9"
  }
 },
 "nbformat": 4,
 "nbformat_minor": 5
}
